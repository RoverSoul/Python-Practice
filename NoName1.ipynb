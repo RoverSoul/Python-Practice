{
 "cells": [
  {
   "cell_type": "markdown",
   "metadata": {},
   "source": [
    "1.python程式"
   ]
  },
  {
   "cell_type": "code",
   "execution_count": 5,
   "metadata": {},
   "outputs": [
    {
     "data": {
      "text/plain": [
       "20"
      ]
     },
     "execution_count": 5,
     "metadata": {},
     "output_type": "execute_result"
    }
   ],
   "source": [
    "a = 10\n",
    "b = 55\n",
    "c = 2\n",
    "a+b%a*c\n"
   ]
  },
  {
   "cell_type": "code",
   "execution_count": 6,
   "metadata": {},
   "outputs": [],
   "source": [
    "c = 2"
   ]
  },
  {
   "cell_type": "code",
   "execution_count": 7,
   "metadata": {},
   "outputs": [
    {
     "data": {
      "text/plain": [
       "20"
      ]
     },
     "execution_count": 7,
     "metadata": {},
     "output_type": "execute_result"
    }
   ],
   "source": [
    "a+b%a*c"
   ]
  },
  {
   "cell_type": "markdown",
   "metadata": {},
   "source": [
    "#網路爬蟲 "
   ]
  },
  {
   "cell_type": "code",
   "execution_count": 9,
   "metadata": {},
   "outputs": [
    {
     "name": "stdout",
     "output_type": "stream",
     "text": [
      "\n",
      "<!DOCTYPE html>\n",
      "<html id=\"Stencil\" lang=\"zh-Hant-TW\" class=\"StencilRoot  my3columns  l-out Pos-r https fp fp-default ltr desktop Desktop bkt900\">\n",
      "<head>\n",
      "    \n",
      "    <title>Yahoo奇摩</title><meta http-equiv=\"x-dns-prefetch-control\" content=\"on\"><link rel=\"dns-prefetch\" href=\"//s.yimg.com\"><link rel=\"preconnect\" href=\"//s.yimg.com\"><link rel=\"dns-prefetch\" href=\"//y.analytics.yahoo.com\"><link rel=\"preconnect\" href=\"//y.analytics.yahoo.com\"><link rel=\"dns-prefetch\" href=\"//geo.query.yahoo.com\"><link rel=\"preconnect\" href=\"//geo.query.yahoo.com\"><link rel=\"dns-prefetch\" href=\"//csc.beap.bc.yahoo.com\"><link rel=\"preconnect\" href=\"//csc.beap.bc.yahoo.com\"><link rel=\"dns-prefetch\" href=\"//geo.yahoo.com\"><link rel=\"preconnect\" href=\"//geo.yahoo.com\"><link rel=\"dns-prefetch\" href=\"//comet.yahoo.com\"><link rel=\"preconnect\" href=\"//comet.yahoo.com\"><link rel=\"dns-prefetch\" href=\"//video-api.yql.yahoo.com\"><link rel=\"preconnect\" href=\"//video-api.yql.yahoo.com\"><link rel=\"dns-prefetch\" href=\"//yrtas.btrll.com\"><link rel=\"preconnect\" href=\"//yrtas.btrll.com\"><link rel=\"dns-prefetch\" href=\"//shim.btrll.com\"><link rel=\"preconnect\" href=\"//shim.btrll.com\">    <meta http-equiv=\"Content-Type\" content=\"text/html; charset=utf-8\">\n",
      "    \n",
      "    <meta http-equiv=\"X-UA-Compatible\" content=\"chrome=1\">\n",
      "    <meta name=\"description\" content=\"新聞、電子信箱和搜尋功能只是起點。每天發掘更多精彩內容。打造專屬自我的 Yahoo奇摩體驗。\">\n",
      "    <meta name=\"keywords\" content=\"yahoo, yahoo奇摩, yahoo奇摩首頁, yahoo首頁, yahoo搜尋, yahoo 信箱, yahoo 即時通訊, 新聞, 股市, 運動, 娛樂, 拍賣, 購物中心, 超級商城\">\n",
      "    <meta property=\"og:title\" content=\"Yahoo奇摩\" />\n",
      "    <meta property=\"og:type\" content='website' />\n",
      "    <meta property=\"og:url\" content=\"http://tw.yahoo.com\" />\n",
      "    <meta property=\"og:description\" content=\"新聞、電子信箱和搜尋功能只是起點。每天發掘更多精彩內容。打造專屬自我的 Yahoo奇摩體驗。\"/>\n",
      "    <meta property=\"og:image\" content=\"https://s.yimg.com/dh/ap/default/130909/y_200_a.png\"/>\n",
      "    <meta property=\"og:site_name\" content=\"Yahoo奇摩\" />\n",
      "    <meta property=\"fb:app_id\" content=\"399384933466174\" />\n",
      "    <meta name=\"format-detection\" content=\"telephone=no\" />\n",
      "    <link rel=\"icon\" sizes=\"any\" mask href=\"https://mbp.yimg.com/sy/os/mit/media/p/common/images/favicon_new-7483e38.svg\">\n",
      "<meta name=\"theme-color\" content=\"#400090\">\n",
      "    <link rel=\"shortcut icon\" href=\"https://mbp.yimg.com/sy/rz/l/favicon.ico\" />\n",
      "    <link rel=\"canonical\" href=\"https://tw.yahoo.com/\" />    <meta name=\"referrer\" content=\"origin\">        <link href=\"https://mbp.yimg.com/sy/os/stencil/3.2.1/styles-ltr.css\" rel=\"stylesheet\" type=\"text/css\">\n",
      "            \n",
      "    \n",
      "    \n",
      "    \n",
      "    \n",
      "    \n",
      "<link href=\"https://mbp.yimg.com/sy/nn/lib/metro/g/theme/yglyphs-legacy_0.0.7.css\" rel=\"stylesheet\" type=\"text/css\"><link href=\"https://mbp.yimg.com/sy/nn/lib/metro/g/myy/fp_0.0.60.css\" rel=\"stylesheet\" type=\"text/css\"><link href=\"https://mbp.yimg.com/sy/nn/lib/metro/g/theme/partner_abu_0.0.101.css\" rel=\"stylesheet\" type=\"text/css\"><link href=\"https://mbp.yimg.com/sy/nn/lib/metro/g/theme/partner_abu_video_0.0.3.css\" rel=\"stylesheet\" type=\"text/css\"><link href=\"https://mbp.yimg.com/sy/nn/lib/metro/g/sda/fp_sda_0.0.8.css\" rel=\"stylesheet\" type=\"text/css\">        <link rel=\"search\" type=\"application/opensearchdescription+xml\" href=\"https://tw.search.yahoo.com/opensearch.xml\" title=\"Yahoo奇摩搜尋\" />\n",
      "        <link href=\"https://mbp.yimg.com/sy/zz/combo?yui:3.12.0/widget-base/assets/skins/sam/widget-base.css&yui:3.12.0/widget-stack/assets/skins/sam/widget-stack.css&yui:3.12.0/overlay/assets/skins/sam/overlay.css&yui:3.12.0/autocomplete-list/assets/skins/sam/autocomplete-list.css&yui:3.12.0/app-transitions-css/app-transitions-css-min.css\" rel=\"stylesheet\" type=\"text/css\" />\n",
      "        <script>\n",
      "    var myYahoostartTime = new Date(),\n",
      "        afPerfHeadStart=new Date().getTime(),\n",
      "        ie;\n",
      "<!-- slw11.fp.tp2.yahoo.com Wed Mar 14 02:24:48 UTC 2018 -->\n",
      "\n"
     ]
    }
   ],
   "source": [
    "import requests\n",
    "c = requests.get(\"http://yahoo.com.tw\")\n",
    "print(c.text)"
   ]
  },
  {
   "cell_type": "code",
   "execution_count": null,
   "metadata": {},
   "outputs": [],
   "source": []
  }
 ],
 "metadata": {
  "kernelspec": {
   "display_name": "Python 3",
   "language": "python",
   "name": "python3"
  },
  "language_info": {
   "codemirror_mode": {
    "name": "ipython",
    "version": 3
   },
   "file_extension": ".py",
   "mimetype": "text/x-python",
   "name": "python",
   "nbconvert_exporter": "python",
   "pygments_lexer": "ipython3",
   "version": "3.6.4"
  }
 },
 "nbformat": 4,
 "nbformat_minor": 2
}
